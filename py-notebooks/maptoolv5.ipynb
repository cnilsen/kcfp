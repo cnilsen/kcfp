{
  "nbformat": 4,
  "nbformat_minor": 0,
  "metadata": {
    "kernel_info": {
      "name": "white-box"
    },
    "kernelspec": {
      "display_name": "Python (white-box)",
      "language": "python",
      "name": "white-box"
    },
    "language_info": {
      "codemirror_mode": {
        "name": "ipython",
        "version": 3
      },
      "file_extension": ".py",
      "mimetype": "text/x-python",
      "name": "python",
      "nbconvert_exporter": "python",
      "pygments_lexer": "ipython3",
      "version": "3.6.7"
    },
    "nteract": {
      "version": "0.15.0"
    },
    "colab": {
      "name": "maptoolv4.ipynb",
      "provenance": [],
      "include_colab_link": true
    }
  },
  "cells": [
    {
      "cell_type": "markdown",
      "metadata": {
        "id": "view-in-github",
        "colab_type": "text"
      },
      "source": [
        "<a href=\"https://colab.research.google.com/github/cnilsen/kcfp/blob/master/py-notebooks/maptoolv5.ipynb\" target=\"_parent\"><img src=\"https://colab.research.google.com/assets/colab-badge.svg\" alt=\"Open In Colab\"/></a>"
      ]
    },
    {
      "cell_type": "markdown",
      "metadata": {
        "id": "j6IVd1b_pZQ_"
      },
      "source": [
        "\n",
        "King County Fish Passage Hydrology Tool \n",
        "---\n",
        "---"
      ]
    },
    {
      "cell_type": "markdown",
      "metadata": {
        "id": "8HSNGBDJpZRC"
      },
      "source": [
        "## License\n",
        "###### © 2020 Geosyntec Consultants Inc. The copyright holders grant the freedom to copy, modify, convey, adapt, and/or redistribute this work under the terms of the [Mozilla Public Licesnse 2.0](https://spdx.org/licenses/MPL-2.0.html)"
      ]
    },
    {
      "cell_type": "markdown",
      "metadata": {
        "id": "bvSnrjknpZRD"
      },
      "source": [
        "## Overview\n",
        "This tool supports King County's comprehensive inventory and assessment of assets on watercourses to\n",
        "determine if the assets are barriers to fish passage. King County is performing the assessment using\n",
        "methodology outlined in the Washington Department of Fish and Wildlife's Fish Passage Inventory,\n",
        "Assessment, and Prioritization Manual (WDFW, 2019).\n",
        "The Level B assessment outlined in the WDFW\n",
        "2019 Manual provides for a hydraulic analysis to determine if a culvert meets the velocity and depth\n",
        "requirements for fish passage between low and high fish passage flows. Per the WDFW 2019 Manual:\n",
        "For an instream feature to be considered a non-barrier, it should not obstruct upstream migration\n",
        "at any time between the low and high fish passage flows at that location:\n",
        "\n",
        "* Low fish passage flow is the 95% exceedance flow; and\n",
        "* High fish passage flow is the 10% exceedance flow during the months of adult upstream migration.\n",
        "\n",
        "### Data Sources \n",
        "\n",
        "Data used in this tool has been provided from the Nature Conservancy's Stormwater Heatmap Project. Documentation on the Stormwater Heatmap is in progress. Below is a brief summary of data sources: \n",
        "\n",
        "\n",
        "* Digital Elevation Model - [USGS National Hydrography (NHD Plus High Resolution Raster Data)](https://www.usgs.gov/core-science-systems/ngp/national-hydrography/nhdplus-high-resolution)\n",
        "* Soils - [USDA Gridded SURGO Database](https://www.nrcs.usda.gov/wps/portal/nrcs/detail/soils/home/?cid=nrcs142p2_053628)\n",
        "* Slope - USGS National Elevation Dataset (https://ned.usgs.gov)\n",
        "* Level B Sites - Spatial data provided by King County \n",
        "* Land cover and hydrology- The Nature Conservancy Stormwater Heatmap \n",
        "\n",
        "Documentation for the Stormwater Heatmap is in progress. Hydrology simulations were performed using [PyHSPF](https://github.com/djlampert/PyHSPF). Watershed factors used in this simulation were selected based on stormwater modeling guidance from the Department of Ecology. See the [Western Washington Hydrology Model Users Manual for more information.](https://fortress.wa.gov/ecy/madcap/wq/2014SWMMWWinteractive/2014%20SWMMWW.htm#Topics/VolumeIII2014/VolIII%20AppB%202014.htm%3FTocPath%3D2014%2520SWMMWW%7CVolume%2520III%2520-%2520Hydrologic%2520Analysis%2520and%2520Flow%2520Control%2520BMPs%7C)\n",
        "\n",
        "### Limitations\n",
        "\n",
        "##### Results not calibrated \n",
        "Hydrology simulations were performed on a hydrologic response unit basins using regional parameters. Parameters have not been calibrated to actual data. A model-based gridded precipitation dataset was used (see [Mauger et al 2018](https://cig.uw.edu/news-and-events/publications/new-projections-of-changing-heavy-precipitation-in-king-county/) ). \n",
        "\n",
        "##### Model does not include routing or storage \n",
        "Modeling was performed on a lumped parameter basis. Attenuation due to routing or storage is not reflected in the model. For large watersheds (greater than ~ 1 square mile) high flows may not be accurate. \n",
        "\n",
        "##### Model does not include deep groundwater baseflow\n",
        "The modeling results include all hspf flow paths (surface flow, interflow, and groundwater flow), however baseflow from deep groundwater is not included. Consistent with WDFW guidance, results in this notebook have assumed a minimum baseflow of 1 cfs. \n",
        "\n",
        "---"
      ]
    },
    {
      "cell_type": "markdown",
      "metadata": {
        "id": "Bi4Df8Q-pZRE"
      },
      "source": [
        "## Version information \n",
        "alpha version - for evaluation. Released 15 Jan 2020\n",
        "\n",
        "##### [Report a bug or other issue](mailto:incoming+geosyntec-king-county-fish-passage-tool-public-16324449-ai7zp34q4yd1im1aedhzmlalo-issue@incoming.gitlab.com)\n",
        "\n",
        "---"
      ]
    },
    {
      "cell_type": "markdown",
      "metadata": {
        "id": "O4FR7rE6pZRE"
      },
      "source": [
        "## 1. Project set up\n",
        "Import libraries and set paths"
      ]
    },
    {
      "cell_type": "code",
      "metadata": {
        "id": "mI2n6dYmpZRE"
      },
      "source": [
        "from pathlib import Path\n",
        "from datetime import datetime\n",
        "from functools import partial\n",
        "\n",
        "from google.oauth2 import service_account\n",
        "import ee\n",
        "\n",
        "import pandas\n",
        "import pandas_gbq\n",
        "\n",
        "import geopandas\n",
        "from whitebox import WhiteboxTools\n",
        "\n",
        "import ipywidgets\n",
        "from ipywidgets import widgets\n",
        "from IPython.display import display\n",
        "import ipyleaflet\n",
        "from ipyleaflet import GeoData, LayersControl, basemaps\n",
        "from sidecar import Sidecar\n",
        "import folium\n",
        "\n",
        "import pikestreet\n",
        "\n",
        "\n",
        "datadir = Path('..', '01-data').absolute()\n",
        "outputdir = Path('..', '02-output', datetime.today().strftime('%Y%m%d')).absolute()\n",
        "outputdir.mkdir(exist_ok=True, parents=True)\n",
        "\n",
        "wbt = WhiteboxTools()\n",
        "wbt.work_dir = str(Path('.').absolute())\n",
        "wbt.verbose = False\n",
        "\n",
        "%matplotlib inline"
      ],
      "execution_count": null,
      "outputs": []
    },
    {
      "cell_type": "markdown",
      "metadata": {
        "id": "k12SApOHpZRG"
      },
      "source": [
        "## 2. User Configuration \n",
        "#### Notebook variables\n",
        "Edit the variables below for your particular case"
      ]
    },
    {
      "cell_type": "code",
      "metadata": {
        "id": "Vph_ol5lpZRG"
      },
      "source": [
        "#Location of shapefile with analysis locaitons\n",
        "sitefile = datadir / 'from_king_county' / 'levelBsites.geojson'\n",
        "sites = geopandas.read_file(sitefile)\n",
        "\n",
        "#Beginning year \n",
        "year0 = 1970 \n",
        "#end year \n",
        "yearN = 2000 \n",
        "\n",
        "#array of all months (1-12)\n",
        "all_months = list(range(1,13))\n",
        "\n",
        "#low flow is set for all months \n",
        "low_flow_months = all_months \n",
        "\n",
        "#high flow is set for upstream migration  \n",
        "high_flow_months = list(range(1,2)) #high flow is calculated for January only \n",
        "\n",
        "numofQuantiles = 100 #number of quantitles to calculate"
      ],
      "execution_count": null,
      "outputs": []
    },
    {
      "cell_type": "markdown",
      "metadata": {
        "id": "47biaafTpZRH"
      },
      "source": [
        "#### Earth Engine Authentication\n",
        "This notebook requires a Google Earth Engine Account to query and analyze spatial data. Visit https://earthengine.google.com/signup to sign up for an account.  \n",
        "\n",
        "After you have registered your account. Run the `ee.Authenticate` function to authenticate your access to Earth Engine servers and `ee.Initialize` to initialize it. Upon running the following cell you'll be asked to grant Earth Engine access to your Google account. Follow the instructions printed to the cell. (Sometimes this takes awhile). "
      ]
    },
    {
      "cell_type": "code",
      "metadata": {
        "id": "9AQ-Tg8MpZRH"
      },
      "source": [
        "#ee.Authenticate() #<---Uncomment and run the first time you need to authenticate your google earth account\n",
        "ee.Initialize()"
      ],
      "execution_count": null,
      "outputs": []
    },
    {
      "cell_type": "markdown",
      "metadata": {
        "id": "tWOdg8CfpZRI"
      },
      "source": [
        "#### Local directory information"
      ]
    },
    {
      "cell_type": "markdown",
      "metadata": {
        "id": "64QYKvsSpZRI"
      },
      "source": [
        "This notebook creates a local directory with today's date to store data. After you complete your analysis, you may want to delete the files in your local directory. \n",
        "The cell below outputs the working directory, the directory for input data, and the output directory. "
      ]
    },
    {
      "cell_type": "code",
      "metadata": {
        "id": "MU2ryxlppZRI",
        "outputId": "3b2ba3ae-d2b3-42a8-8060-434e332149cc"
      },
      "source": [
        "print('Working directory:', wbt.work_dir)\n",
        "print('Input data directory:', datadir)\n",
        "print('Output data directory:', outputdir)"
      ],
      "execution_count": null,
      "outputs": [
        {
          "name": "stdout",
          "output_type": "stream",
          "text": [
            "Working directory: C:\\Users\\cnilsen\\Documents\\repos\\king-county-fish-passage\\py-notebooks\n",
            "Input data directory: C:\\Users\\cnilsen\\Documents\\repos\\king-county-fish-passage\\py-notebooks\\..\\01-data\n",
            "Output data directory: C:\\Users\\cnilsen\\Documents\\repos\\king-county-fish-passage\\py-notebooks\\..\\02-output\\20200303\n"
          ]
        }
      ]
    },
    {
      "cell_type": "markdown",
      "metadata": {
        "id": "CHOq5JWLpZRJ"
      },
      "source": [
        "## 3. Site Selection\n",
        "\n",
        "Execute the cell below to display a map of locations to analyze. Once you have selected a point to analyze, select the 'Click to Analyze Site' button.\n",
        "\n",
        "The notebook will then download a dem to your local directory and begin delineating the watershed. When the button turns green and check mark appears you can proceed to the next cell. "
      ]
    },
    {
      "cell_type": "code",
      "metadata": {
        "id": "w-OuOJskpZRJ"
      },
      "source": [
        "# Create the text boxes, etc. \n",
        "latitudeBox = widgets.FloatText(value=0, description='Lat:', disabled=True)\n",
        "longitudeBox = widgets.FloatText(value=0, description='Lng:', disabled=True)\n",
        "ID = widgets.Textarea(value='ID here', description='ID:', disabled=True)\n",
        "       \n",
        "point_layer = GeoData(geo_dataframe=sites, name='Level B Sites')\n",
        "textarea = widgets.VBox([latitudeBox, longitudeBox, ID])\n",
        "info_panel = widgets.Label(value='',  disabled=True, layout = {'visibility': 'hidden'})\n",
        "\n",
        "\n",
        "watershed_dict= dict()\n",
        "map1 = ipyleaflet.Map(\n",
        "    zoom=9,\n",
        "    center=(47.49169, -122.243516),\n",
        "    layout=widgets.Layout(height='400px'),\n",
        "    basemap=basemaps.Esri.WorldTopoMap\n",
        ");\n",
        "\n",
        "\n",
        "#Add level B Sites\n",
        "accept_button = widgets.Button(\n",
        "    description='Click to Analyze Site',\n",
        "    disabled=True,\n",
        "    button_style='', # 'success', 'info', 'warning', 'danger' or ''\n",
        "    tooltip='Analyze Site',\n",
        "    layout = {'margin': '10px 10px 10px 10px'},\n",
        ")\n",
        "\n",
        "_point_handler = partial(pikestreet.onclick_handler, sites=sites, mapobj=map1,\n",
        "                         lat_box=latitudeBox, lng_box=longitudeBox,\n",
        "                         watershed_dict=watershed_dict, wbt=wbt,\n",
        "                         accept_button=accept_button, id_box=ID)\n",
        "\n",
        "_button_clicker = partial(pikestreet.accept_button_click_handler, mapobj=map1,\n",
        "                          watershed_dict=watershed_dict, ee=ee, wbt=wbt,\n",
        "                          outputdir=outputdir, info_panel=info_panel)\n",
        "\n",
        "point_layer.on_click(_point_handler)\n",
        "accept_button.on_click(_button_clicker)\n",
        "\n",
        "map1.add_layer(point_layer)\n",
        "map1.add_control(LayersControl(position='topright'))\n",
        "\n",
        "col2 = widgets.VBox([accept_button, textarea, info_panel])\n",
        "output_area = widgets.VBox([map1, col2])\n",
        "with Sidecar(title='Watershed Delineator') as sc:\n",
        "    display(output_area)"
      ],
      "execution_count": null,
      "outputs": []
    },
    {
      "cell_type": "markdown",
      "metadata": {
        "id": "2lmSQHgTpZRK"
      },
      "source": [
        "## 4. Land use, soils, and slope data \n",
        "\n",
        "Execute the cell below to get land use, soils and slope information for the watershed. "
      ]
    },
    {
      "cell_type": "code",
      "metadata": {
        "id": "y1P72YM4pZRK",
        "outputId": "07bb05ff-5ba1-4048-a90e-22a2e0c8468c"
      },
      "source": [
        "pikestreet.detail_map(watershed_dict, ee=ee)"
      ],
      "execution_count": null,
      "outputs": [
        {
          "data": {
            "text/html": [
              "<div style=\"width:100%;\"><div style=\"position:relative;width:100%;height:0;padding-bottom:60%;\"><iframe src=\"data:text/html;charset=utf-8;base64,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\" style=\"position:absolute;width:100%;height:100%;left:0;top:0;border:none !important;\" allowfullscreen webkitallowfullscreen mozallowfullscreen></iframe></div></div>"
            ],
            "text/plain": [
              "<folium.folium.Map at 0x28772b793c8>"
            ]
          },
          "execution_count": 14,
          "metadata": {},
          "output_type": "execute_result"
        }
      ]
    },
    {
      "cell_type": "markdown",
      "metadata": {
        "id": "sfqh1g1-pZRK"
      },
      "source": [
        "|              |    |  | \n",
        ":-------------------------:|:-------------------------:|:-------------------------:\n",
        "![alt text](legend_1.PNG \"Title\")  | ![alt text](legend_2.PNG \"Title\")| ![alt text](legend_0.PNG \"Title\") \n",
        "\n"
      ]
    },
    {
      "cell_type": "markdown",
      "metadata": {
        "id": "rGU-jYKFpZRK"
      },
      "source": [
        "#### Get HRUs\n",
        "These categories are combined to create \"hydrologic response units\" or HRUs. These are used to query the hydrology results. "
      ]
    },
    {
      "cell_type": "code",
      "metadata": {
        "id": "xyXG00uxpZRK"
      },
      "source": [
        "HRUs = (\n",
        "    pikestreet.get_HRUs_in_watershed(ee, watershed_dict['watershed_geometry'],\n",
        "                                     image_file=\"users/stormwaterheatmap/public/hrus_2m\")\n",
        "        .pipe(pikestreet.process_HRUs)\n",
        ")\n",
        "pikestreet.hru_barchart(HRUs)"
      ],
      "execution_count": null,
      "outputs": []
    },
    {
      "cell_type": "markdown",
      "metadata": {
        "id": "QX6UmLAJpZRL"
      },
      "source": [
        "## 5. Get flow values from Big Query\n",
        "\n",
        "#### Authenticate with service account credentials\n",
        "a key file: `stormwaterheatmap-hydrology-8308154a1232.json` has been generated for use with this notebook. It is located in the data directory. Use this to create credintals to the Big Query api. "
      ]
    },
    {
      "cell_type": "code",
      "metadata": {
        "id": "XMqReYx6pZRL"
      },
      "source": [
        "key_path = datadir / \"stormwaterheatmap-hydrology-8308154a1232.json\"\n",
        "project_id = \"stormwaterheatmap-hydrology\"\n",
        "pandas_gbq.context.project = project_id\n",
        "pandas_gbq.context.credentials = service_account.Credentials.from_service_account_file(\n",
        "    str(key_path)\n",
        ")\n",
        "\n",
        "centroid = watershed_dict['centroid'].iloc[0]\n",
        "geohash = pikestreet.get_geohash_of_point(centroid, project_id=project_id)\n",
        "\n",
        "low_flow_quants = pikestreet.get_flow_quantiles(HRUs, geohash, year0, yearN, numofQuantiles, *low_flow_months)\n",
        "high_flow_quants = pikestreet.get_flow_quantiles(HRUs, geohash, year0, yearN, numofQuantiles, *high_flow_months)\n",
        "\n",
        "quants = pikestreet.process_quantiles(low_flow_quants, 'Qlow').merge(\n",
        "    pikestreet.process_quantiles(high_flow_quants, 'Qhigh'), on=['Exceedance']\n",
        ")\n",
        "\n",
        "#set a minimum 1 cfs flow\n",
        "quants['Qlow'] = quants['Qlow'].clip(lower = 1)\n",
        "quants['Qhigh'] = quants['Qhigh'].clip(lower = 1)\n",
        "\n",
        "qplot = pikestreet.prob_plot(quants)\n",
        "\n",
        "summary_table = quants.style.apply(\n",
        "    lambda x: [\"background: #1e88e5\" if x['Exceedance']==0.10  else(\"background: #F58518\" if x['Exceedance']==0.95 else \"\") for v in x], axis = 1).hide_index()\n",
        "display(pikestreet.hilo_flow_widgets(quants),qplot.mark_line() + qplot.mark_point(),summary_table)"
      ],
      "execution_count": null,
      "outputs": []
    },
    {
      "cell_type": "code",
      "metadata": {
        "id": "dpn-_-lypZRL"
      },
      "source": [
        ""
      ],
      "execution_count": null,
      "outputs": []
    }
  ]
}